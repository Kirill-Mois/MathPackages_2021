{
  "cells": [
    {
      "cell_type": "markdown",
      "metadata": {
        "id": "D8S90zMRbg81"
      },
      "source": [
        "# Лабораторная работа №3."
      ]
    },
    {
      "cell_type": "markdown",
      "metadata": {
        "id": "-ZZlAavjbg86"
      },
      "source": [
        "Выполнил студент гр. 9383 Моисейченко Кирилл. Вариант 10."
      ]
    },
    {
      "cell_type": "markdown",
      "metadata": {
        "id": "-wm0_poJbg88"
      },
      "source": [
        "## Цель работы:"
      ]
    },
    {
      "cell_type": "markdown",
      "metadata": {
        "id": "_PldRTYdbg89"
      },
      "source": [
        "Практическое применение библиотеки символьных вычислений Python (SymPy) для решения задач дискретной математики и математической логики."
      ]
    },
    {
      "cell_type": "markdown",
      "metadata": {
        "id": "ZoLwgVxmbg8_"
      },
      "source": [
        "## Постановка задачи:"
      ]
    },
    {
      "cell_type": "markdown",
      "metadata": {
        "id": "-Z3VRmWlbg9B"
      },
      "source": [
        "1. Решить свой вариант диофантова уравнения.\n",
        "2. Имея открытую часть ключа RSA найти соответствующую закрытую часть и расшифровать кодированное слово.\n",
        "3. Записать в формате ДНФ и КНФ булеву функцию, заданную своим аналитическим выражением."
      ]
    },
    {
      "cell_type": "markdown",
      "metadata": {
        "id": "xTHYdCaJbg9D"
      },
      "source": [
        "## Выполнение работы:"
      ]
    },
    {
      "cell_type": "markdown",
      "metadata": {
        "id": "PH-SeAtPbg9E"
      },
      "source": [
        "### 1. Решение диофантова уравнения\n",
        "\n",
        "$2451x-4142y=-76$"
      ]
    },
    {
      "cell_type": "code",
      "execution_count": 1,
      "metadata": {
        "id": "LfPrF1z6bg9E"
      },
      "outputs": [],
      "source": [
        "from sympy.solvers.diophantine.diophantine import diop_solve\n",
        "from sympy import symbols"
      ]
    },
    {
      "cell_type": "code",
      "execution_count": 2,
      "metadata": {
        "colab": {
          "base_uri": "https://localhost:8080/"
        },
        "id": "lVkukygabg9H",
        "outputId": "ad5bb32e-9508-44dc-da5a-2dfcb240a4f6"
      },
      "outputs": [
        {
          "output_type": "stream",
          "name": "stdout",
          "text": [
            "Множество всех решений: (218*t_0 + 196, 129*t_0 + 116)\n"
          ]
        }
      ],
      "source": [
        "x, y = symbols(\"x, y\", integer=True)\n",
        "print(\"Множество всех решений:\", diop_solve(2451*x-4142*y+76))"
      ]
    },
    {
      "cell_type": "markdown",
      "metadata": {
        "id": "kf8BanLzbg9H"
      },
      "source": [
        "Частное решение: $(196, 116)$"
      ]
    },
    {
      "cell_type": "markdown",
      "metadata": {
        "id": "zgGUEgCNbg9I"
      },
      "source": [
        "### 2. RSA-дешифрование"
      ]
    },
    {
      "cell_type": "markdown",
      "metadata": {
        "id": "raU1Dkf1bg9J"
      },
      "source": [
        "Русское слово из четырех букв закодировано при помощи алгоритма RSA открытым ключом (e = 11,m = 34).\n",
        "Шифрованное сообщение имеет вид    (17; 20; 30; 16). Подберите закрытую часть ключа и прочитайте исходное слово.\n",
        "Буквам русского алфавита соответсвуют числа в диапазоне от 2 до 32 (исключены буквы “ё” и “ъ”)."
      ]
    },
    {
      "cell_type": "code",
      "execution_count": 3,
      "metadata": {
        "scrolled": false,
        "id": "RNAv23t0bg9K"
      },
      "outputs": [],
      "source": [
        "from sympy.crypto.crypto import decipher_rsa\n",
        "from sympy.crypto.crypto import rsa_private_key\n",
        "\n",
        "m = 34\n",
        "e = 11\n",
        "\n",
        "p = 2\n",
        "q = 17"
      ]
    },
    {
      "cell_type": "code",
      "execution_count": 4,
      "metadata": {
        "colab": {
          "base_uri": "https://localhost:8080/"
        },
        "id": "J084jAylbg9L",
        "outputId": "a57b34a5-33a4-4814-aa1c-4a24af93ab4b"
      },
      "outputs": [
        {
          "output_type": "stream",
          "name": "stdout",
          "text": [
            "[17, 10, 4, 16]\n"
          ]
        }
      ],
      "source": [
        "private_key = rsa_private_key(p, q, e)\n",
        "\n",
        "encrypted_word = [17, 20, 30, 16]\n",
        "word = []\n",
        "for value in encrypted_word:\n",
        "    word.append(decipher_rsa(value, private_key))\n",
        "print(word)"
      ]
    },
    {
      "cell_type": "markdown",
      "metadata": {
        "id": "RKHhvFjFbg9L"
      },
      "source": [
        "Зашифрованное слово: ПИГО"
      ]
    },
    {
      "cell_type": "markdown",
      "metadata": {
        "id": "OEgtDltbbg9M"
      },
      "source": [
        "### 3. Запись в формате ДНФ и КНФ булевой функции, заданной аналитическим выражением.\n",
        "$f(x, y, z) = ((z xor y) (zx)) xor (y \\vee (z \\vee x))$"
      ]
    },
    {
      "cell_type": "code",
      "execution_count": 5,
      "metadata": {
        "id": "knnsrE-gbg9N"
      },
      "outputs": [],
      "source": [
        "from sympy.logic.boolalg import to_cnf, to_dnf, Xor\n",
        "X, Y, Z = symbols(\"X, Y, Z\", integer=True)"
      ]
    },
    {
      "cell_type": "code",
      "execution_count": 8,
      "metadata": {
        "id": "UnyiRgaubg9N"
      },
      "outputs": [],
      "source": [
        "f = (Xor((Xor(Z, Y) & (Z & X)), (Y | (Z | X))))"
      ]
    },
    {
      "cell_type": "markdown",
      "metadata": {
        "id": "Y5LzC2j2bg9O"
      },
      "source": [
        "#### Конъюктивная нормальная форма:"
      ]
    },
    {
      "cell_type": "code",
      "execution_count": 9,
      "metadata": {
        "colab": {
          "base_uri": "https://localhost:8080/",
          "height": 38
        },
        "id": "F8szBm8Lbg9P",
        "outputId": "07692fd6-cfce-4b62-9749-9b22f0358561"
      },
      "outputs": [
        {
          "output_type": "execute_result",
          "data": {
            "text/latex": "$\\displaystyle \\left(X \\vee Y \\vee Z\\right) \\wedge \\left(Y \\vee \\neg X \\vee \\neg Z\\right)$",
            "text/plain": [
              "(X | Y | Z) & (Y | ~X | ~Z)"
            ]
          },
          "metadata": {},
          "execution_count": 9
        }
      ],
      "source": [
        "to_cnf(f, simplify = True)"
      ]
    },
    {
      "cell_type": "markdown",
      "metadata": {
        "id": "72GA9hN7bg9P"
      },
      "source": [
        "#### Дизъюнктивная нормальная форма:"
      ]
    },
    {
      "cell_type": "code",
      "execution_count": 10,
      "metadata": {
        "colab": {
          "base_uri": "https://localhost:8080/",
          "height": 38
        },
        "id": "Y31GSfunbg9Q",
        "outputId": "c724f5b6-ce85-4c8c-f43f-eda2597a4968"
      },
      "outputs": [
        {
          "output_type": "execute_result",
          "data": {
            "text/latex": "$\\displaystyle Y \\vee \\left(X \\wedge \\neg Z\\right) \\vee \\left(Z \\wedge \\neg X\\right)$",
            "text/plain": [
              "Y | (X & ~Z) | (Z & ~X)"
            ]
          },
          "metadata": {},
          "execution_count": 10
        }
      ],
      "source": [
        "to_dnf(f, simplify = True)"
      ]
    },
    {
      "cell_type": "markdown",
      "metadata": {
        "id": "Zn3nvceHbg9Q"
      },
      "source": [
        "## Вывод:"
      ]
    },
    {
      "cell_type": "markdown",
      "metadata": {
        "id": "k6mhV1bIbg9R"
      },
      "source": [
        "Практически применена библиотека символьных вычислений Python (SymPy) для решения задач дискретной математики и математической логики."
      ]
    },
    {
      "cell_type": "code",
      "source": [
        ""
      ],
      "metadata": {
        "id": "k6_TgVtZbt85"
      },
      "execution_count": null,
      "outputs": []
    }
  ],
  "metadata": {
    "kernelspec": {
      "display_name": "Python 3",
      "language": "python",
      "name": "python3"
    },
    "language_info": {
      "codemirror_mode": {
        "name": "ipython",
        "version": 3
      },
      "file_extension": ".py",
      "mimetype": "text/x-python",
      "name": "python",
      "nbconvert_exporter": "python",
      "pygments_lexer": "ipython3",
      "version": "3.7.3"
    },
    "colab": {
      "name": "report3.ipynb",
      "provenance": [],
      "collapsed_sections": []
    }
  },
  "nbformat": 4,
  "nbformat_minor": 0
}
